{
  "nbformat": 4,
  "nbformat_minor": 0,
  "metadata": {
    "colab": {
      "provenance": [],
      "toc_visible": true
    },
    "kernelspec": {
      "name": "python3",
      "display_name": "Python 3"
    }
  },
  "cells": [
    {
      "cell_type": "markdown",
      "metadata": {
        "id": "KJqp9AANOCtf"
      },
      "source": [
        "<img src=\"https://raw.githubusercontent.com/andre-marcos-perez/ebac-course-utils/main/media/logo/newebac_logo_black_half.png\" alt=\"ebac-logo\">\n",
        "\n",
        "---\n",
        "\n",
        "# **Módulo** | Python: Variáveis & Tipos de Dados\n",
        "Caderno de **Exercícios**<br>\n",
        "Linkedin [Walisson Carvalho](https://www.linkedin.com/in/wacarv-/)\n",
        "\n",
        "---"
      ]
    },
    {
      "cell_type": "markdown",
      "metadata": {
        "id": "d9jDtUbDOE1-"
      },
      "source": [
        "# **Tópicos**\n",
        "\n",
        "<ol type=\"1\">\n",
        "  <li>Introdução ao Google Colab;</li>\n",
        "  <li>Variáveis;</li>\n",
        "  <li>Números;</li>\n",
        "  <li><i>Strings;</i></li>\n",
        "  <li>Boleanos.</li>\n",
        "</ol>"
      ]
    },
    {
      "cell_type": "markdown",
      "metadata": {
        "id": "SmoHgt-lwkpD"
      },
      "source": [
        "---"
      ]
    },
    {
      "cell_type": "markdown",
      "metadata": {
        "id": "GABI6OW8OfQ2"
      },
      "source": [
        "# **Exercícios**"
      ]
    },
    {
      "cell_type": "markdown",
      "metadata": {
        "id": "muD1vxozykSC"
      },
      "source": [
        "## 1\\. Google Colab"
      ]
    },
    {
      "cell_type": "markdown",
      "metadata": {
        "id": "ahrFfCuBxJKs"
      },
      "source": [
        "Crie uma célula de código que escreva o texto \"Olá mundo!\", utilize o comando `print`."
      ]
    },
    {
      "cell_type": "code",
      "source": [
        "print(\"Olá, mundo!\")\n"
      ],
      "metadata": {
        "colab": {
          "base_uri": "https://localhost:8080/"
        },
        "id": "hVPsn5V1oxBw",
        "outputId": "c55b5268-c107-4256-eda8-531e47ea013d"
      },
      "execution_count": null,
      "outputs": [
        {
          "output_type": "stream",
          "name": "stdout",
          "text": [
            "Olá, mundo!\n"
          ]
        }
      ]
    },
    {
      "cell_type": "markdown",
      "metadata": {
        "id": "KI9zQRT2xa7m"
      },
      "source": [
        "Crie uma célua de texto e adicione uma imagem."
      ]
    },
    {
      "cell_type": "markdown",
      "source": [
        "##### Está é uma imagem\n",
        "\n",
        "![logotipo.png](data:image/png;base64,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)"
      ],
      "metadata": {
        "id": "W2qdQs1mqtpH"
      }
    },
    {
      "cell_type": "code",
      "source": [],
      "metadata": {
        "id": "gojZs38sZA03"
      },
      "execution_count": null,
      "outputs": []
    },
    {
      "cell_type": "markdown",
      "metadata": {
        "id": "tFYOPLS3xiwe"
      },
      "source": [
        "## 2\\. Números"
      ]
    },
    {
      "cell_type": "markdown",
      "metadata": {
        "id": "O2G9gt7tx2c-"
      },
      "source": [
        "Preencha as células de código para preencher os valores de (A), (B) e (C) na tabela de ticket médio abaixo:\n",
        "\n",
        "<br>\n",
        "\n",
        "| Dia   | Valor Total Vendas | Qtd Total Vendas | Ticket Medio |\n",
        "|-------|--------------------|------------------|--------------|\n",
        "| 19/01 | (A)                | 3                | 320.52       |\n",
        "| 20/01 | 834.47             | (B)              | 119.21       |\n",
        "| 23/01 | 15378.12           | 5                | (C)          |"
      ]
    },
    {
      "cell_type": "code",
      "metadata": {
        "id": "nsrKH9EizNRD",
        "colab": {
          "base_uri": "https://localhost:8080/"
        },
        "outputId": "0fa33cb9-e4df-4f19-e8ff-c70cc15bee5e"
      },
      "source": [
        "# (A)\n",
        "(A) = 320.52/3\n",
        "resultado = f'O valor total das vendas do dia 19/01 foi: R$ {A:.2f}'\n",
        "print(resultado)\n"
      ],
      "execution_count": null,
      "outputs": [
        {
          "output_type": "stream",
          "name": "stdout",
          "text": [
            "O valor total das vendas do dia 19/01 foi: R$ 106.84\n"
          ]
        }
      ]
    },
    {
      "cell_type": "code",
      "metadata": {
        "id": "QQ1GBGHJzMmi",
        "colab": {
          "base_uri": "https://localhost:8080/"
        },
        "outputId": "aa8321d1-ba80-48d2-df4f-4ef32cc22126"
      },
      "source": [
        "# (B)\n",
        "B = 834.47/119.21\n",
        "resultado = f'A quantidade total de vendas do dia 20/01 foi: {B:.0f}'\n",
        "print(resultado)\n"
      ],
      "execution_count": null,
      "outputs": [
        {
          "output_type": "stream",
          "name": "stdout",
          "text": [
            "A quantidade total de vendas do dia 20/01 foi: 7\n"
          ]
        }
      ]
    },
    {
      "cell_type": "code",
      "metadata": {
        "id": "W-li0nSMzKNa",
        "colab": {
          "base_uri": "https://localhost:8080/"
        },
        "outputId": "fd5374c4-e886-4668-c233-e5c693086f92"
      },
      "source": [
        "# (C)\n",
        "C = 15378.12/5\n",
        "resultado = f'O Ticket Médio do dia 23/01 foi de: R$ {C:.2f}'\n",
        "print(resultado)"
      ],
      "execution_count": null,
      "outputs": [
        {
          "output_type": "stream",
          "name": "stdout",
          "text": [
            "O Ticket Médio do dia 23/01 foi de: R$ 3075.62\n"
          ]
        }
      ]
    },
    {
      "cell_type": "code",
      "source": [],
      "metadata": {
        "id": "USLmpIGJbRT-"
      },
      "execution_count": null,
      "outputs": []
    },
    {
      "cell_type": "markdown",
      "metadata": {
        "id": "3eoP-Vj9yzh8"
      },
      "source": [
        "---"
      ]
    },
    {
      "cell_type": "markdown",
      "metadata": {
        "id": "yUJ6kdony6Pr"
      },
      "source": [
        "## 3\\. Strings"
      ]
    },
    {
      "cell_type": "markdown",
      "metadata": {
        "id": "KDuZpg-5zCvO"
      },
      "source": [
        "Aplique três métodos distintos na *string* abaixo, você pode conferir alguns métodos neste [link](https://www.w3schools.com/python/python_ref_string.asp):"
      ]
    },
    {
      "cell_type": "markdown",
      "source": [
        "##### 1° Transformando toda a string em Maiúsculas\n"
      ],
      "metadata": {
        "id": "GvBLAO1Rhr3Y"
      }
    },
    {
      "cell_type": "code",
      "metadata": {
        "id": "k9zbyf7BzjKj",
        "colab": {
          "base_uri": "https://localhost:8080/",
          "height": 35
        },
        "outputId": "2fd51a07-1422-4b0f-aff1-27427f268536"
      },
      "source": [
        "cancao = 'Roda mundo, roda gigante, roda moinho, roda pião.'\n",
        "cancao.upper()"
      ],
      "execution_count": null,
      "outputs": [
        {
          "output_type": "execute_result",
          "data": {
            "text/plain": [
              "'RODA MUNDO, RODA GIGANTE, RODA MOINHO, RODA PIÃO.'"
            ],
            "application/vnd.google.colaboratory.intrinsic+json": {
              "type": "string"
            }
          },
          "metadata": {},
          "execution_count": 96
        }
      ]
    },
    {
      "cell_type": "markdown",
      "source": [
        "##### 2° Verificando se todos os caracteres são Minúsculos"
      ],
      "metadata": {
        "id": "9Ru0KiuciHoz"
      }
    },
    {
      "cell_type": "code",
      "source": [
        "cancao.islower()"
      ],
      "metadata": {
        "colab": {
          "base_uri": "https://localhost:8080/"
        },
        "id": "WoRwC5W-hTYT",
        "outputId": "591a7f52-39c7-4971-b654-c44004a4dcc4"
      },
      "execution_count": null,
      "outputs": [
        {
          "output_type": "execute_result",
          "data": {
            "text/plain": [
              "False"
            ]
          },
          "metadata": {},
          "execution_count": 97
        }
      ]
    },
    {
      "cell_type": "markdown",
      "source": [
        "##### 3° Retornando os caracteres da string para minúsculo"
      ],
      "metadata": {
        "id": "FR0OfYzVio5g"
      }
    },
    {
      "cell_type": "code",
      "source": [
        "cancao.lower()"
      ],
      "metadata": {
        "colab": {
          "base_uri": "https://localhost:8080/",
          "height": 35
        },
        "id": "45L4t8AAixjF",
        "outputId": "478eb48a-6e55-4800-b4d4-e7d488cb1c56"
      },
      "execution_count": null,
      "outputs": [
        {
          "output_type": "execute_result",
          "data": {
            "text/plain": [
              "'roda mundo, roda gigante, roda moinho, roda pião.'"
            ],
            "application/vnd.google.colaboratory.intrinsic+json": {
              "type": "string"
            }
          },
          "metadata": {},
          "execution_count": 98
        }
      ]
    },
    {
      "cell_type": "markdown",
      "metadata": {
        "id": "guZMHXVq0FnC"
      },
      "source": [
        "Extraia da string abaixo o valor da taxa **selic** na variável `selic` e o valor do **ano** na variavel `ano`. Imprima os valores na tela."
      ]
    },
    {
      "cell_type": "code",
      "metadata": {
        "id": "cbx_P4IQ0agK",
        "colab": {
          "base_uri": "https://localhost:8080/"
        },
        "outputId": "54bcb47f-4f01-4085-8d24-41e2400de207"
      },
      "source": [
        "noticia = 'Selic vai a 2,75% e supera expectativas; é a primeira alta em 6 anos.'\n",
        "noticia.find('2,75%')\n",
        "selic = noticia[12:17]\n",
        "\n",
        "noticia.find('6')\n",
        "ano = noticia[62:68]\n",
        "\n",
        "gabarito = f'O Valor da Selic é de: {selic}, única alta nos últimos {ano}.'\n",
        "\n",
        "\n",
        "print(gabarito)\n",
        "print(selic)\n",
        "print(ano)"
      ],
      "execution_count": null,
      "outputs": [
        {
          "output_type": "stream",
          "name": "stdout",
          "text": [
            "O Valor da Selic é de: 2,75%, única alta nos últimos 6 anos.\n",
            "2,75%\n",
            "6 anos\n"
          ]
        }
      ]
    },
    {
      "cell_type": "markdown",
      "metadata": {
        "id": "wWzbu-OC0z3L"
      },
      "source": [
        "---"
      ]
    },
    {
      "cell_type": "markdown",
      "metadata": {
        "id": "no8w_Ati01xP"
      },
      "source": [
        "## 4\\. Booleanos"
      ]
    },
    {
      "cell_type": "markdown",
      "metadata": {
        "id": "D_0tC3SC099N"
      },
      "source": [
        "Utilize a tabela da verdade para responder: qual o valor da variável x?"
      ]
    },
    {
      "cell_type": "code",
      "metadata": {
        "id": "XwIEbxf91SpU",
        "colab": {
          "base_uri": "https://localhost:8080/"
        },
        "outputId": "8056f1df-64dc-453d-c06f-9a5eb4200f55"
      },
      "source": [
        "a = False\n",
        "b = True\n",
        "\n",
        "x = not a & b\n",
        "\n",
        "print(x)\n",
        "\n",
        "#Obs: O valor de x é true, pois a negação de falso é verdadeiro, e Verdadeira com Verdadeiro = Verdadeiro na condicional \"E ou AND\".\n"
      ],
      "execution_count": null,
      "outputs": [
        {
          "output_type": "stream",
          "name": "stdout",
          "text": [
            "True\n"
          ]
        }
      ]
    },
    {
      "cell_type": "code",
      "source": [],
      "metadata": {
        "id": "rOKORWIQoI-f"
      },
      "execution_count": null,
      "outputs": []
    }
  ]
}
