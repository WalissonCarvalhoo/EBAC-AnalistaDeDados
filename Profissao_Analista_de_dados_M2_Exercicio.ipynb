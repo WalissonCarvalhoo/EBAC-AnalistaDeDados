{
  "nbformat": 4,
  "nbformat_minor": 0,
  "metadata": {
    "colab": {
      "provenance": [],
      "toc_visible": true
    },
    "kernelspec": {
      "name": "python3",
      "display_name": "Python 3"
    }
  },
  "cells": [
    {
      "cell_type": "markdown",
      "metadata": {
        "id": "KJqp9AANOCtf"
      },
      "source": [
        "<img src=\"https://raw.githubusercontent.com/andre-marcos-perez/ebac-course-utils/main/media/logo/newebac_logo_black_half.png\" alt=\"ebac-logo\">\n",
        "\n",
        "---\n",
        "\n",
        "# **Módulo** | Python: Estruturas de Dados\n",
        "Caderno de **Exercícios**<br>\n",
        "Professor [André Perez](https://www.linkedin.com/in/andremarcosperez/)\n",
        "\n",
        "---"
      ]
    },
    {
      "cell_type": "markdown",
      "metadata": {
        "id": "d9jDtUbDOE1-"
      },
      "source": [
        "# **Tópicos**\n",
        "\n",
        "<ol type=\"1\">\n",
        "  <li>Listas;</li>\n",
        "  <li>Conjuntos;</li>\n",
        "  <li>Dicionários.</li>\n",
        "</ol>"
      ]
    },
    {
      "cell_type": "markdown",
      "metadata": {
        "id": "SmoHgt-lwkpD"
      },
      "source": [
        "---"
      ]
    },
    {
      "cell_type": "markdown",
      "metadata": {
        "id": "GABI6OW8OfQ2"
      },
      "source": [
        "# **Exercícios**"
      ]
    },
    {
      "cell_type": "markdown",
      "metadata": {
        "id": "muD1vxozykSC"
      },
      "source": [
        "## 1\\. Listas"
      ]
    },
    {
      "cell_type": "markdown",
      "metadata": {
        "id": "ahrFfCuBxJKs"
      },
      "source": [
        "Crie uma lista chamada `filmes` com o nome dos 10 primeiros filmes mais bem avaliados no site no [IMDB](https://www.imdb.com/chart/top/). Imprima o resultado."
      ]
    },
    {
      "cell_type": "code",
      "metadata": {
        "id": "OgL6Hv3bzOHI",
        "colab": {
          "base_uri": "https://localhost:8080/"
        },
        "outputId": "64cca697-0272-40c7-c4e0-43dd864151d9"
      },
      "source": [
        "filmes = ['1 - Um Sonho de Liberdade', '2 - O Poderoso Chefão', '3 - Batman - O Cavaleiro das Trevas','4 - O Poderoso Chefão II','5 - 12 Homens e uma Sentença','6 - A Lista de Schindler','7 - O Senhor dos Anéis: O Retorno do Rei','8 - Pulp Fiction - Tempo de Violência','9 - O Senhor dos Anéis: A Sociedade do Anel', '10 - Três Homens em Conflito']\n",
        "for filme in filmes:\n",
        "  print(filme) #criei um 'for' para deixar a lista ordenada e melhorar a visualização.\n",
        "\n",
        "print('-----------------------------------------------------------')\n",
        "\n",
        "print(filmes)"
      ],
      "execution_count": 1,
      "outputs": [
        {
          "output_type": "stream",
          "name": "stdout",
          "text": [
            "1 - Um Sonho de Liberdade\n",
            "2 - O Poderoso Chefão\n",
            "3 - Batman - O Cavaleiro das Trevas\n",
            "4 - O Poderoso Chefão II\n",
            "5 - 12 Homens e uma Sentença\n",
            "6 - A Lista de Schindler\n",
            "7 - O Senhor dos Anéis: O Retorno do Rei\n",
            "8 - Pulp Fiction - Tempo de Violência\n",
            "9 - O Senhor dos Anéis: A Sociedade do Anel\n",
            "10 - Três Homens em Conflito\n",
            "-----------------------------------------------------------\n",
            "['1 - Um Sonho de Liberdade', '2 - O Poderoso Chefão', '3 - Batman - O Cavaleiro das Trevas', '4 - O Poderoso Chefão II', '5 - 12 Homens e uma Sentença', '6 - A Lista de Schindler', '7 - O Senhor dos Anéis: O Retorno do Rei', '8 - Pulp Fiction - Tempo de Violência', '9 - O Senhor dos Anéis: A Sociedade do Anel', '10 - Três Homens em Conflito']\n"
          ]
        }
      ]
    },
    {
      "cell_type": "markdown",
      "metadata": {
        "id": "KI9zQRT2xa7m"
      },
      "source": [
        "Simule a movimentação do *ranking*. Utilize os métodos `insert` e `pop` para trocar a posição do primeiro e do segundo filme da lista. Imprima o resultado.\n",
        "\n"
      ]
    },
    {
      "cell_type": "code",
      "source": [
        "filmes.pop(0) #removendo o primeiro filme\n"
      ],
      "metadata": {
        "colab": {
          "base_uri": "https://localhost:8080/",
          "height": 35
        },
        "id": "WESfFNHhmcmZ",
        "outputId": "be0525a6-14fd-44f7-dfa4-f58a7ae036c0"
      },
      "execution_count": 2,
      "outputs": [
        {
          "output_type": "execute_result",
          "data": {
            "text/plain": [
              "'1 - Um Sonho de Liberdade'"
            ],
            "application/vnd.google.colaboratory.intrinsic+json": {
              "type": "string"
            }
          },
          "metadata": {},
          "execution_count": 2
        }
      ]
    },
    {
      "cell_type": "code",
      "source": [
        "filmes.pop(0) #removendo o segundo filme"
      ],
      "metadata": {
        "colab": {
          "base_uri": "https://localhost:8080/",
          "height": 35
        },
        "id": "InHC4e5T8d3t",
        "outputId": "a6861719-55b9-497e-97c3-3e25dd4f062d"
      },
      "execution_count": 3,
      "outputs": [
        {
          "output_type": "execute_result",
          "data": {
            "text/plain": [
              "'2 - O Poderoso Chefão'"
            ],
            "application/vnd.google.colaboratory.intrinsic+json": {
              "type": "string"
            }
          },
          "metadata": {},
          "execution_count": 3
        }
      ]
    },
    {
      "cell_type": "markdown",
      "metadata": {
        "id": "zMN1Q3jdwoJm"
      },
      "source": [
        "---"
      ]
    },
    {
      "cell_type": "code",
      "source": [
        "#Criando variáveis para os filmes removidos e trocando a ordem deles. OBS: O código deve ser excutado todo de uma vez no ambiente de execução, para evitar gerar duplicadas nesse célula.\n",
        "filme1 = '1 - Um Sonho de Liberdade'\n",
        "filme2 = '2 - O Poderoso Chefão'\n",
        "\n",
        "filmes.insert(0, filme2)\n",
        "filmes.insert(1, filme1)\n",
        "\n",
        "for filme in filmes:\n",
        "  print(filme)\n",
        "print('--------------------------------------------')\n",
        "print(filmes)"
      ],
      "metadata": {
        "colab": {
          "base_uri": "https://localhost:8080/"
        },
        "id": "Rct6XjZmrKgJ",
        "outputId": "a7e56b4c-16d1-45d3-971c-f7c94ea9b054"
      },
      "execution_count": 4,
      "outputs": [
        {
          "output_type": "stream",
          "name": "stdout",
          "text": [
            "2 - O Poderoso Chefão\n",
            "1 - Um Sonho de Liberdade\n",
            "3 - Batman - O Cavaleiro das Trevas\n",
            "4 - O Poderoso Chefão II\n",
            "5 - 12 Homens e uma Sentença\n",
            "6 - A Lista de Schindler\n",
            "7 - O Senhor dos Anéis: O Retorno do Rei\n",
            "8 - Pulp Fiction - Tempo de Violência\n",
            "9 - O Senhor dos Anéis: A Sociedade do Anel\n",
            "10 - Três Homens em Conflito\n",
            "--------------------------------------------\n",
            "['2 - O Poderoso Chefão', '1 - Um Sonho de Liberdade', '3 - Batman - O Cavaleiro das Trevas', '4 - O Poderoso Chefão II', '5 - 12 Homens e uma Sentença', '6 - A Lista de Schindler', '7 - O Senhor dos Anéis: O Retorno do Rei', '8 - Pulp Fiction - Tempo de Violência', '9 - O Senhor dos Anéis: A Sociedade do Anel', '10 - Três Homens em Conflito']\n"
          ]
        }
      ]
    },
    {
      "cell_type": "markdown",
      "metadata": {
        "id": "lxa5L6uF0ZJE"
      },
      "source": [
        "## 2\\. Conjuntos"
      ]
    },
    {
      "cell_type": "markdown",
      "metadata": {
        "id": "9JahS2Kj0d5u"
      },
      "source": [
        "Aconteceu um erro no seu *ranking*. Simule a duplicação dos três últimos filmes da lista. Imprima o resultado."
      ]
    },
    {
      "cell_type": "code",
      "metadata": {
        "id": "BnjnLBNC6PGe",
        "colab": {
          "base_uri": "https://localhost:8080/"
        },
        "outputId": "c30a1dc2-bde5-4dfb-f6d4-7b48592b835b"
      },
      "source": [
        "\n",
        "oitavo_filme = filmes[7]\n",
        "nono_filme = filmes[8]\n",
        "decimo_filme = filmes[9]\n",
        "\n",
        "filmes.append(oitavo_filme)\n",
        "filmes.append(nono_filme)\n",
        "filmes.append(decimo_filme)\n",
        "\n",
        "for filme in filmes:\n",
        "  print(filme)\n",
        "print('------------------------------------------------------')\n",
        "print(filmes)"
      ],
      "execution_count": 5,
      "outputs": [
        {
          "output_type": "stream",
          "name": "stdout",
          "text": [
            "2 - O Poderoso Chefão\n",
            "1 - Um Sonho de Liberdade\n",
            "3 - Batman - O Cavaleiro das Trevas\n",
            "4 - O Poderoso Chefão II\n",
            "5 - 12 Homens e uma Sentença\n",
            "6 - A Lista de Schindler\n",
            "7 - O Senhor dos Anéis: O Retorno do Rei\n",
            "8 - Pulp Fiction - Tempo de Violência\n",
            "9 - O Senhor dos Anéis: A Sociedade do Anel\n",
            "10 - Três Homens em Conflito\n",
            "8 - Pulp Fiction - Tempo de Violência\n",
            "9 - O Senhor dos Anéis: A Sociedade do Anel\n",
            "10 - Três Homens em Conflito\n",
            "------------------------------------------------------\n",
            "['2 - O Poderoso Chefão', '1 - Um Sonho de Liberdade', '3 - Batman - O Cavaleiro das Trevas', '4 - O Poderoso Chefão II', '5 - 12 Homens e uma Sentença', '6 - A Lista de Schindler', '7 - O Senhor dos Anéis: O Retorno do Rei', '8 - Pulp Fiction - Tempo de Violência', '9 - O Senhor dos Anéis: A Sociedade do Anel', '10 - Três Homens em Conflito', '8 - Pulp Fiction - Tempo de Violência', '9 - O Senhor dos Anéis: A Sociedade do Anel', '10 - Três Homens em Conflito']\n"
          ]
        }
      ]
    },
    {
      "cell_type": "markdown",
      "metadata": {
        "id": "suxTfCJB6ZiX"
      },
      "source": [
        "Utiliza a conversão `set` e `list` para remover os valores duplicados. Imprima o resultado."
      ]
    },
    {
      "cell_type": "code",
      "metadata": {
        "id": "ZvUGN-0n6joM",
        "colab": {
          "base_uri": "https://localhost:8080/"
        },
        "outputId": "aa3f7c2e-0294-4664-be91-915c66145225"
      },
      "source": [
        "filmes = {'2 - O Poderoso Chefão', '1 - Um Sonho de Liberdade', '3 - Batman - O Cavaleiro das Trevas', '4 - O Poderoso Chefão II', '5 - 12 Homens e uma Sentençaa', '6 - A Lista de Schindler', '7 - O Senhor dos Anéis: O Retorno do Rei', '8 - Pulp Fiction - Tempo de Violência', '9 - O Senhor dos Anéis: A Sociedade do Anel', '10 - Três Homens em Conflito', '8 - Pulp Fiction - Tempo de Violência', '9 - O Senhor dos Anéis: A Sociedade do Anel', '10 - Três Homens em Conflito'}\n",
        "print(type(filmes))\n",
        "\n",
        "for filme in filmes:\n",
        "  print(filme)\n",
        "\n",
        "print('-----------------------------------------------------')\n",
        "\n",
        "print(filmes)\n"
      ],
      "execution_count": 6,
      "outputs": [
        {
          "output_type": "stream",
          "name": "stdout",
          "text": [
            "<class 'set'>\n",
            "6 - A Lista de Schindler\n",
            "8 - Pulp Fiction - Tempo de Violência\n",
            "2 - O Poderoso Chefão\n",
            "1 - Um Sonho de Liberdade\n",
            "7 - O Senhor dos Anéis: O Retorno do Rei\n",
            "4 - O Poderoso Chefão II\n",
            "10 - Três Homens em Conflito\n",
            "9 - O Senhor dos Anéis: A Sociedade do Anel\n",
            "5 - 12 Homens e uma Sentençaa\n",
            "3 - Batman - O Cavaleiro das Trevas\n",
            "-----------------------------------------------------\n",
            "{'6 - A Lista de Schindler', '8 - Pulp Fiction - Tempo de Violência', '2 - O Poderoso Chefão', '1 - Um Sonho de Liberdade', '7 - O Senhor dos Anéis: O Retorno do Rei', '4 - O Poderoso Chefão II', '10 - Três Homens em Conflito', '9 - O Senhor dos Anéis: A Sociedade do Anel', '5 - 12 Homens e uma Sentençaa', '3 - Batman - O Cavaleiro das Trevas'}\n"
          ]
        }
      ]
    },
    {
      "cell_type": "markdown",
      "metadata": {
        "id": "ShkK35eQ6pAM"
      },
      "source": [
        "---"
      ]
    },
    {
      "cell_type": "markdown",
      "metadata": {
        "id": "EL_FzmxL6rTv"
      },
      "source": [
        "## 3\\. Dicionários"
      ]
    },
    {
      "cell_type": "markdown",
      "metadata": {
        "id": "i8l0gFqRCpfT"
      },
      "source": [
        "Repita os exercícios da parte 1 (listas). Os elementos da lista `filmes` devem ser dicionários no seguinte formato: `{'nome': <nome-do-filme>, 'ano': <ano do filme>, 'sinopse': <sinopse do filme>}`."
      ]
    },
    {
      "cell_type": "code",
      "metadata": {
        "id": "tu6MSFwGDnHv"
      },
      "source": [
        "filmes = [\n",
        "    {'nome': 'Um Sonho de Liberdade', 'ano': 1994, 'sinopse': 'Dois homens presos se reúnem ao longo de vários anos, encontrando consolo e eventual redenção através de atos de decência comum.'},\n",
        "    {'nome': 'O Poderoso Chefão', 'ano': 1972, 'sinopse': 'O patriarca idoso de uma dinastia do crime organizado transfere o controle de seu império clandestino para seu filho relutante.'},\n",
        "    {'nome': 'Batman - O Cavaleiro das Trevas', 'ano': 2008, 'sinopse': 'Agora com a ajuda do tenente Jim Gordon e do promotor público Harvey Dent, Batman tem tudo para banir o crime de Gotham City de uma vez por todas. Mas em breve, os três serão vítimas do Coringa, que pretende lançar Gotham em uma anarquia.'},\n",
        "    {'nome': 'O Poderoso Chefão II', 'ano': 1974, 'sinopse': 'Em 1950, Michael Corleone, agora à frente da família, tenta expandir o negócio do crime a Las Vegas, Los Angeles e Cuba. Paralelamente, é revelada a história de Vito Corleone, e de como saiu da Sicília e chegou a Nova Iorque.'},\n",
        "    {'nome': '12 Homens e uma Sentença', 'ano': 1957, 'sinopse': 'O julgamento de um assassinato em Nova Iorque é frustrado por um único membro, cujo ceticismo força o júri a considerar cuidadosamente as evidências antes de dar o veredito..'},\n",
        "    {'nome': 'A Lista de Schindler', 'ano': 1993, 'sinopse': 'Na Polônia ocupada pelos alemães durante a Segunda Guerra Mundial, o industrial Oskar Schindler começa a ser preocupar com seus trabalhadores judeus depois de testemunhar sua perseguição pelos nazistas.'},\n",
        "    {'nome': 'O Senhor dos Anéis: O Retorno do Rei', 'ano': 2003, 'sinopse': 'Gandalf e Aragorn lideram o Mundo dos Homens contra o exército de Sauron para desviar o olhar de Frodo e Sam quando eles se aproximam á Montanha da Perdição com o Um Anel.'},\n",
        "    {'nome': 'Pulp Fiction - Tempo de Violência', 'ano': 1994, 'sinopse': 'As vidas de dois assassinos da máfia, um boxeador, um gângster e sua esposa, e um par de bandidos se entrelaçam em quatro histórias de violência e redenção.'},\n",
        "    {'nome': 'O Senhor dos Anéis: A Sociedade do Anel', 'ano': 2001, 'sinopse': 'Um manso hobbit do Condado e oito companheiros partem em uma jornada para destruir o poderoso Um Anel e salvar a Terra-média das Trevas.'},\n",
        "    {'nome': 'Três Homens em Conflito', 'ano': 1966, 'sinopse': 'Um impostor se junta com dois homens para encontrar fortuna num remoto cemitério.'}\n",
        "]\n"
      ],
      "execution_count": 7,
      "outputs": []
    },
    {
      "cell_type": "code",
      "source": [],
      "metadata": {
        "id": "7AiSqLhQwYgq"
      },
      "execution_count": 7,
      "outputs": []
    }
  ]
}