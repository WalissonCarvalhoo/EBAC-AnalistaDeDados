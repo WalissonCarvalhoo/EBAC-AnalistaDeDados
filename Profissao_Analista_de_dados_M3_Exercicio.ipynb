{
  "cells": [
    {
      "cell_type": "markdown",
      "metadata": {
        "id": "KJqp9AANOCtf"
      },
      "source": [
        "<img src=\"https://raw.githubusercontent.com/andre-marcos-perez/ebac-course-utils/main/media/logo/newebac_logo_black_half.png\" alt=\"ebac-logo\">\n",
        "\n",
        "---\n",
        "\n",
        "# **Módulo** | Python: Fluxo Condicional & Repetição\n",
        "Caderno de **Exercícios**<br>\n",
        "Professor [André Perez](https://www.linkedin.com/in/andremarcosperez/)\n",
        "\n",
        "---"
      ]
    },
    {
      "cell_type": "markdown",
      "metadata": {
        "id": "d9jDtUbDOE1-"
      },
      "source": [
        "# **Tópicos**\n",
        "\n",
        "<ol type=\"1\">\n",
        "  <li>Estrutura condicional if / else / elif;</li>\n",
        "  <li>Estrutura condicional try / catch / finally;</li>\n",
        "  <li>Estrutura de repetição for / in.</li>\n",
        "</ol>"
      ]
    },
    {
      "cell_type": "markdown",
      "metadata": {
        "id": "SmoHgt-lwkpD"
      },
      "source": [
        "---"
      ]
    },
    {
      "cell_type": "markdown",
      "metadata": {
        "id": "GABI6OW8OfQ2"
      },
      "source": [
        "# **Exercícios**"
      ]
    },
    {
      "cell_type": "markdown",
      "metadata": {
        "id": "alcB9Hx-5LEV"
      },
      "source": [
        "## 1\\. Estrutura condicional for / in"
      ]
    },
    {
      "cell_type": "markdown",
      "metadata": {
        "id": "rwA9WB0V5LEV"
      },
      "source": [
        "Na lista `propaganda_online` abaixo, estão presente os dados de usuários que acessaram um determinado site e se o mesmo clicou em uma propaganda."
      ]
    },
    {
      "cell_type": "code",
      "execution_count": 81,
      "metadata": {
        "id": "OZnMxwiz5LEV"
      },
      "outputs": [],
      "source": [
        "propaganda_online = [\n",
        "  {'tempo_gasto_site': 68.95, 'idade': 35, 'renda_area': 61833.90, 'tempo_gasto_internet': 256.09, 'cidade': 'Wrightburgh', 'pais': 'Tunisia', 'clicou_no_ad': 0},\n",
        "  {'tempo_gasto_site': 80.23, 'idade': 31, 'renda_area': 68441.85, 'tempo_gasto_internet': 193.77, 'cidade': 'West Jodi', 'pais': 'Nauru', 'clicou_no_ad': 0},\n",
        "  {'tempo_gasto_site': 69.47, 'idade': 26, 'renda_area': 59785.94, 'tempo_gasto_internet': 236.50, 'cidade': 'Davidton', 'pais': 'San Marino', 'clicou_no_ad': 0},\n",
        "  {'tempo_gasto_site': 68.37, 'idade': 35, 'renda_area': 73889.99, 'tempo_gasto_internet': 225.58, 'cidade': 'South Manuel', 'pais': 'Iceland', 'clicou_no_ad': 0},\n",
        "  {'tempo_gasto_site': 88.91, 'idade': 33, 'renda_area': 53852.85, 'tempo_gasto_internet': 208.36, 'cidade': 'Brandonstad', 'pais': 'Myanmar', 'clicou_no_ad': 0},\n",
        "  {'tempo_gasto_site': None, 'idade': 48, 'renda_area': 24593.33, 'tempo_gasto_internet': 131.76, 'cidade': 'Port Jefferybury', 'pais': 'Australia', 'clicou_no_ad': 1},\n",
        "  {'tempo_gasto_site': 74.53, 'idade': 30, 'renda_area': 68862.00, 'tempo_gasto_internet': 221.51, 'cidade': 'West Colin', 'pais': 'Grenada'},\n",
        "  {'tempo_gasto_site': 69.88, 'idade': 20, 'renda_area': 55642.32, 'tempo_gasto_internet': 183.82, 'cidade': 'Ramirezton', 'pais': 'Ghana', 'clicou_no_ad': 0}\n",
        "]"
      ]
    },
    {
      "cell_type": "code",
      "execution_count": 82,
      "metadata": {
        "id": "cyMWqs_t8pWA",
        "outputId": "30fcb5cb-7784-4cdf-e250-dc9c298025e1",
        "colab": {
          "base_uri": "https://localhost:8080/"
        }
      },
      "outputs": [
        {
          "output_type": "stream",
          "name": "stdout",
          "text": [
            "{'tempo_gasto_site': 68.95, 'idade': 35, 'renda_area': 61833.9, 'tempo_gasto_internet': 256.09, 'cidade': 'Wrightburgh', 'pais': 'Tunisia', 'clicou_no_ad': 0}\n",
            "{'tempo_gasto_site': 80.23, 'idade': 31, 'renda_area': 68441.85, 'tempo_gasto_internet': 193.77, 'cidade': 'West Jodi', 'pais': 'Nauru', 'clicou_no_ad': 0}\n",
            "{'tempo_gasto_site': 69.47, 'idade': 26, 'renda_area': 59785.94, 'tempo_gasto_internet': 236.5, 'cidade': 'Davidton', 'pais': 'San Marino', 'clicou_no_ad': 0}\n",
            "{'tempo_gasto_site': 68.37, 'idade': 35, 'renda_area': 73889.99, 'tempo_gasto_internet': 225.58, 'cidade': 'South Manuel', 'pais': 'Iceland', 'clicou_no_ad': 0}\n",
            "{'tempo_gasto_site': 88.91, 'idade': 33, 'renda_area': 53852.85, 'tempo_gasto_internet': 208.36, 'cidade': 'Brandonstad', 'pais': 'Myanmar', 'clicou_no_ad': 0}\n",
            "{'tempo_gasto_site': None, 'idade': 48, 'renda_area': 24593.33, 'tempo_gasto_internet': 131.76, 'cidade': 'Port Jefferybury', 'pais': 'Australia', 'clicou_no_ad': 1}\n",
            "{'tempo_gasto_site': 74.53, 'idade': 30, 'renda_area': 68862.0, 'tempo_gasto_internet': 221.51, 'cidade': 'West Colin', 'pais': 'Grenada'}\n",
            "{'tempo_gasto_site': 69.88, 'idade': 20, 'renda_area': 55642.32, 'tempo_gasto_internet': 183.82, 'cidade': 'Ramirezton', 'pais': 'Ghana', 'clicou_no_ad': 0}\n"
          ]
        }
      ],
      "source": [
        "for dado_de_usuario in propaganda_online:\n",
        "  print(dado_de_usuario)"
      ]
    },
    {
      "cell_type": "markdown",
      "metadata": {
        "id": "3hfaj4oo5LEX"
      },
      "source": [
        "1.1. Imprime os seguintes valores da lista:\n",
        "`tempo_gasto_site` e `idade`\n",
        "\n",
        "Dica: Utilize os conceitos de chave e valor de elementos de uma lista para selecionar os valores de uma chave (lista[chave]), conforme exemplo abaixo, na qual imprime somente os dados da chave `cidade`:"
      ]
    },
    {
      "cell_type": "code",
      "execution_count": 83,
      "metadata": {
        "id": "9xWI4Q5v5LEX",
        "outputId": "5dd4bd2a-d1c5-40f3-e0a0-3db312d46f85",
        "colab": {
          "base_uri": "https://localhost:8080/"
        }
      },
      "outputs": [
        {
          "output_type": "stream",
          "name": "stdout",
          "text": [
            "Wrightburgh\n",
            "West Jodi\n",
            "Davidton\n",
            "South Manuel\n",
            "Brandonstad\n",
            "Port Jefferybury\n",
            "West Colin\n",
            "Ramirezton\n"
          ]
        }
      ],
      "source": [
        "for dado_de_usuario in propaganda_online:\n",
        "    print(dado_de_usuario['cidade'])"
      ]
    },
    {
      "cell_type": "markdown",
      "metadata": {
        "id": "EznQsI0y5LEX"
      },
      "source": [
        "Extrair os valores da chave tempo_gasto_site"
      ]
    },
    {
      "cell_type": "code",
      "execution_count": 84,
      "metadata": {
        "id": "ElR3a-2C5LEY",
        "colab": {
          "base_uri": "https://localhost:8080/"
        },
        "outputId": "26d55045-4089-42ce-90b6-0b72e4a35f51"
      },
      "outputs": [
        {
          "output_type": "stream",
          "name": "stdout",
          "text": [
            "68.95\n",
            "80.23\n",
            "69.47\n",
            "68.37\n",
            "88.91\n",
            "None\n",
            "74.53\n",
            "69.88\n"
          ]
        }
      ],
      "source": [
        "for dado_de_usuario in propaganda_online:\n",
        "    print(dado_de_usuario['tempo_gasto_site'])"
      ]
    },
    {
      "cell_type": "markdown",
      "metadata": {
        "id": "o23o7p1g5LEY"
      },
      "source": [
        "Extrair os valores da chave idade"
      ]
    },
    {
      "cell_type": "code",
      "execution_count": 85,
      "metadata": {
        "id": "1Pn2xuO45LEY",
        "colab": {
          "base_uri": "https://localhost:8080/"
        },
        "outputId": "a8320c37-3d85-4609-ff8e-e14a42a4c4ab"
      },
      "outputs": [
        {
          "output_type": "stream",
          "name": "stdout",
          "text": [
            "35\n",
            "31\n",
            "26\n",
            "35\n",
            "33\n",
            "48\n",
            "30\n",
            "20\n"
          ]
        }
      ],
      "source": [
        "for dado_de_usuario in propaganda_online:\n",
        "    print(dado_de_usuario['idade'])"
      ]
    },
    {
      "cell_type": "markdown",
      "metadata": {
        "id": "SAMpg_975LEY"
      },
      "source": [
        "## 2\\. Estrutura condicional if / else"
      ]
    },
    {
      "cell_type": "markdown",
      "metadata": {
        "id": "QciRcGi35LEY"
      },
      "source": [
        "2.1. Utilize a estrutura if/else para imprimir a cidade dos usuários que gastaram mais de 100 horas de tempo na internet\n",
        "\n",
        "Dica: Após a iteração dos elementos da lista (Através da estrutura condicional FOR),  utilize a estrutura if/else para criar a condição dos valores da chave `tempo_gasto_internet`"
      ]
    },
    {
      "cell_type": "code",
      "execution_count": 86,
      "metadata": {
        "id": "iJRwSe9y5LEY",
        "colab": {
          "base_uri": "https://localhost:8080/"
        },
        "outputId": "586c925d-a366-4cea-ae43-67c4ebddc47c"
      },
      "outputs": [
        {
          "output_type": "stream",
          "name": "stdout",
          "text": [
            "cidade: Wrightburgh\n",
            "cidade: West Jodi\n",
            "cidade: Davidton\n",
            "cidade: South Manuel\n",
            "cidade: Brandonstad\n",
            "cidade: Port Jefferybury\n",
            "cidade: West Colin\n",
            "cidade: Ramirezton\n"
          ]
        }
      ],
      "source": [
        "for dado_de_usuario in propaganda_online:\n",
        "  if dado_de_usuario['tempo_gasto_internet'] > 100:\n",
        "    print(f'cidade: {dado_de_usuario[\"cidade\"]}')"
      ]
    },
    {
      "cell_type": "markdown",
      "metadata": {
        "id": "Iua9_lQo5LEY"
      },
      "source": [
        "## 3\\. Estrutura condicional try / except"
      ]
    },
    {
      "cell_type": "markdown",
      "metadata": {
        "id": "F7Vs25bq5LEY"
      },
      "source": [
        "3.1. Utilize a estrutura try/except para imprimir as cidades dos usuários que passaram mais de 70 segundos no site.\n",
        "\n",
        "Dica: Realize o tratamento de exceções dentro da execução da iteração dos elementos da lista"
      ]
    },
    {
      "cell_type": "code",
      "execution_count": 87,
      "metadata": {
        "id": "HJU_zItJ5LEZ",
        "colab": {
          "base_uri": "https://localhost:8080/"
        },
        "outputId": "1c6ed3ad-63d7-4d33-af41-1cb57d87e922"
      },
      "outputs": [
        {
          "output_type": "stream",
          "name": "stdout",
          "text": [
            "O Usuário da cidade: West Jodi permaneceu mais de 70 segundos no site\n",
            "O Usuário da cidade: Brandonstad permaneceu mais de 70 segundos no site\n",
            "O Usuário da cidade: West Colin permaneceu mais de 70 segundos no site\n"
          ]
        }
      ],
      "source": [
        "try:\n",
        "    for dado_de_usuario in propaganda_online:\n",
        "      if dado_de_usuario['tempo_gasto_site'] != None:\n",
        "        if dado_de_usuario['tempo_gasto_site'] > 70:\n",
        "          print(f'O Usuário da cidade: {dado_de_usuario[\"cidade\"]}','permaneceu mais de 70 segundos no site')\n",
        "except Exception as e:\n",
        "    print(f\"Ocorreu um erro: {e}\")"
      ]
    },
    {
      "cell_type": "markdown",
      "metadata": {
        "id": "zMN1Q3jdwoJm"
      },
      "source": [
        "---"
      ]
    },
    {
      "cell_type": "markdown",
      "metadata": {
        "id": "4_L-WULHAesN"
      },
      "source": [
        "---"
      ]
    }
  ],
  "metadata": {
    "colab": {
      "provenance": [],
      "toc_visible": true
    },
    "kernelspec": {
      "display_name": "Python 3 (ipykernel)",
      "language": "python",
      "name": "python3"
    },
    "language_info": {
      "codemirror_mode": {
        "name": "ipython",
        "version": 3
      },
      "file_extension": ".py",
      "mimetype": "text/x-python",
      "name": "python",
      "nbconvert_exporter": "python",
      "pygments_lexer": "ipython3",
      "version": "3.9.7"
    }
  },
  "nbformat": 4,
  "nbformat_minor": 0
}